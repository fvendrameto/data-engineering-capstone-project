{
 "cells": [
  {
   "cell_type": "markdown",
   "metadata": {
    "editable": true
   },
   "source": [
    "# Brazilian COVID-19 vaccination progress\n",
    "### Data Engineering Capstone Project\n",
    "\n",
    "#### Project Summary\n",
    "This project is meant to apply everything I on Udacity's Data Engineering nanodegree, perfoming efficient ETL on large datasets follow a process that when finished will support an high perfomance analytical platform over such datasets.\n",
    "\n",
    "The project follows the follow steps:\n",
    "* Step 1: Scope the Project and Gather Data\n",
    "* Step 2: Explore and Assess the Data\n",
    "* Step 3: Define the Data Model\n",
    "* Step 4: Run ETL to Model the Data\n",
    "* Step 5: Complete Project Write Up"
   ]
  },
  {
   "cell_type": "code",
   "execution_count": 1,
   "metadata": {
    "editable": true
   },
   "outputs": [],
   "source": [
    "import pandas as pd\n",
    "from pyspark.sql import SparkSession\n",
    "from pyspark.sql.functions import col, monotonically_increasing_id, split, substring, to_date\n",
    "from pyspark.sql.types import IntegerType"
   ]
  },
  {
   "cell_type": "code",
   "execution_count": 2,
   "metadata": {},
   "outputs": [],
   "source": [
    "spark = SparkSession.builder.getOrCreate()"
   ]
  },
  {
   "cell_type": "markdown",
   "metadata": {
    "editable": true
   },
   "source": [
    "### Step 1: Project Scope and Datasets\n",
    "\n",
    "#### Scope\n",
    "The goal here is to load COVID-19 vaccination data, made available by the Brazilian government, to assess the progress made so far. In addition to data, we want to segment the progress geographically, from macroregions down to cities. With that, we would be able to inform stakeholders and support decisions regarding vaccine distribution around the country, looking at parameters such as demographic density, which is a relevant factor for the virus spread.\n",
    "\n",
    "#### Describe and Gather Data \n",
    "There are three sources of data:\n",
    "\n",
    "- **Vaccination**: this dataset is updated daily with data of each vaccine applied in Brazil so far, which means that the data is appended. It's possible to download data from certain states or the whole country at once. Over 20 millions doses have been applied as of April 13th 2021, so we'll use dataset from a few states only as a sample here. Available at: https://opendatasus.saude.gov.br/dataset/covid-19-vacinacao/resource/ef3bd0b8-b605-474b-9ae5-c97390c197a8\n",
    "- **City Population**: this dataset contains IBGE's brazilian population estimates for 2020, by city. Available at: https://sidra.ibge.gov.br/geratabela?format=ods&name=tabela6579.ods&terr=NC&rank=-&query=t/6579/n1/all/n6/all/v/all/p/last%201/l/v,p,t\n",
    "- **Demographic density**: the last dataset, also from IBGE, has the demographic density for each city in Brazil. Available at: https://sidra.ibge.gov.br/geratabela?format=ods&name=tabela1301.ods&terr=NC&rank=-&query=t/1301/n6/all/v/616/p/all/d/v616%202/l/v,p,t"
   ]
  },
  {
   "cell_type": "code",
   "execution_count": 3,
   "metadata": {
    "editable": true
   },
   "outputs": [
    {
     "output_type": "execute_result",
     "data": {
      "text/plain": [
       "      city_id              city_and_state  demographic_density\n",
       "0     1100015  Alta Floresta D'Oeste (RO)                 3.45\n",
       "1     1100023              Ariquemes (RO)                20.41\n",
       "2     1100031                 Cabixi (RO)                 4.80\n",
       "3     1100049                 Cacoal (RO)                20.72\n",
       "4     1100056             Cerejeiras (RO)                 6.12\n",
       "...       ...                         ...                  ...\n",
       "5560  5222005             Vianópolis (GO)                13.15\n",
       "5561  5222054         Vicentinópolis (GO)                10.00\n",
       "5562  5222203               Vila Boa (GO)                 4.47\n",
       "5563  5222302          Vila Propício (GO)                 2.36\n",
       "5564  5300108               Brasília (DF)               444.07\n",
       "\n",
       "[5565 rows x 3 columns]"
      ],
      "text/html": "<div>\n<style scoped>\n    .dataframe tbody tr th:only-of-type {\n        vertical-align: middle;\n    }\n\n    .dataframe tbody tr th {\n        vertical-align: top;\n    }\n\n    .dataframe thead th {\n        text-align: right;\n    }\n</style>\n<table border=\"1\" class=\"dataframe\">\n  <thead>\n    <tr style=\"text-align: right;\">\n      <th></th>\n      <th>city_id</th>\n      <th>city_and_state</th>\n      <th>demographic_density</th>\n    </tr>\n  </thead>\n  <tbody>\n    <tr>\n      <th>0</th>\n      <td>1100015</td>\n      <td>Alta Floresta D'Oeste (RO)</td>\n      <td>3.45</td>\n    </tr>\n    <tr>\n      <th>1</th>\n      <td>1100023</td>\n      <td>Ariquemes (RO)</td>\n      <td>20.41</td>\n    </tr>\n    <tr>\n      <th>2</th>\n      <td>1100031</td>\n      <td>Cabixi (RO)</td>\n      <td>4.80</td>\n    </tr>\n    <tr>\n      <th>3</th>\n      <td>1100049</td>\n      <td>Cacoal (RO)</td>\n      <td>20.72</td>\n    </tr>\n    <tr>\n      <th>4</th>\n      <td>1100056</td>\n      <td>Cerejeiras (RO)</td>\n      <td>6.12</td>\n    </tr>\n    <tr>\n      <th>...</th>\n      <td>...</td>\n      <td>...</td>\n      <td>...</td>\n    </tr>\n    <tr>\n      <th>5560</th>\n      <td>5222005</td>\n      <td>Vianópolis (GO)</td>\n      <td>13.15</td>\n    </tr>\n    <tr>\n      <th>5561</th>\n      <td>5222054</td>\n      <td>Vicentinópolis (GO)</td>\n      <td>10.00</td>\n    </tr>\n    <tr>\n      <th>5562</th>\n      <td>5222203</td>\n      <td>Vila Boa (GO)</td>\n      <td>4.47</td>\n    </tr>\n    <tr>\n      <th>5563</th>\n      <td>5222302</td>\n      <td>Vila Propício (GO)</td>\n      <td>2.36</td>\n    </tr>\n    <tr>\n      <th>5564</th>\n      <td>5300108</td>\n      <td>Brasília (DF)</td>\n      <td>444.07</td>\n    </tr>\n  </tbody>\n</table>\n<p>5565 rows × 3 columns</p>\n</div>"
     },
     "metadata": {},
     "execution_count": 3
    }
   ],
   "source": [
    "demographic_density_df = pd.read_excel('data/IBGE/tabela1301.ods', engine='odf', skiprows=3, skipfooter=1, names=['city_id', 'city_and_state', 'demographic_density'])\n",
    "demographic_density_df"
   ]
  },
  {
   "cell_type": "code",
   "execution_count": 4,
   "metadata": {},
   "outputs": [
    {
     "output_type": "execute_result",
     "data": {
      "text/plain": [
       "      city_id              city_and_state  population\n",
       "0     1100015  Alta Floresta D'Oeste (RO)       22728\n",
       "1     1100023              Ariquemes (RO)      109523\n",
       "2     1100031                 Cabixi (RO)        5188\n",
       "3     1100049                 Cacoal (RO)       85893\n",
       "4     1100056             Cerejeiras (RO)       16204\n",
       "...       ...                         ...         ...\n",
       "5565  5222005             Vianópolis (GO)       13977\n",
       "5566  5222054         Vicentinópolis (GO)        8873\n",
       "5567  5222203               Vila Boa (GO)        6312\n",
       "5568  5222302          Vila Propício (GO)        5882\n",
       "5569  5300108               Brasília (DF)     3055149\n",
       "\n",
       "[5570 rows x 3 columns]"
      ],
      "text/html": "<div>\n<style scoped>\n    .dataframe tbody tr th:only-of-type {\n        vertical-align: middle;\n    }\n\n    .dataframe tbody tr th {\n        vertical-align: top;\n    }\n\n    .dataframe thead th {\n        text-align: right;\n    }\n</style>\n<table border=\"1\" class=\"dataframe\">\n  <thead>\n    <tr style=\"text-align: right;\">\n      <th></th>\n      <th>city_id</th>\n      <th>city_and_state</th>\n      <th>population</th>\n    </tr>\n  </thead>\n  <tbody>\n    <tr>\n      <th>0</th>\n      <td>1100015</td>\n      <td>Alta Floresta D'Oeste (RO)</td>\n      <td>22728</td>\n    </tr>\n    <tr>\n      <th>1</th>\n      <td>1100023</td>\n      <td>Ariquemes (RO)</td>\n      <td>109523</td>\n    </tr>\n    <tr>\n      <th>2</th>\n      <td>1100031</td>\n      <td>Cabixi (RO)</td>\n      <td>5188</td>\n    </tr>\n    <tr>\n      <th>3</th>\n      <td>1100049</td>\n      <td>Cacoal (RO)</td>\n      <td>85893</td>\n    </tr>\n    <tr>\n      <th>4</th>\n      <td>1100056</td>\n      <td>Cerejeiras (RO)</td>\n      <td>16204</td>\n    </tr>\n    <tr>\n      <th>...</th>\n      <td>...</td>\n      <td>...</td>\n      <td>...</td>\n    </tr>\n    <tr>\n      <th>5565</th>\n      <td>5222005</td>\n      <td>Vianópolis (GO)</td>\n      <td>13977</td>\n    </tr>\n    <tr>\n      <th>5566</th>\n      <td>5222054</td>\n      <td>Vicentinópolis (GO)</td>\n      <td>8873</td>\n    </tr>\n    <tr>\n      <th>5567</th>\n      <td>5222203</td>\n      <td>Vila Boa (GO)</td>\n      <td>6312</td>\n    </tr>\n    <tr>\n      <th>5568</th>\n      <td>5222302</td>\n      <td>Vila Propício (GO)</td>\n      <td>5882</td>\n    </tr>\n    <tr>\n      <th>5569</th>\n      <td>5300108</td>\n      <td>Brasília (DF)</td>\n      <td>3055149</td>\n    </tr>\n  </tbody>\n</table>\n<p>5570 rows × 3 columns</p>\n</div>"
     },
     "metadata": {},
     "execution_count": 4
    }
   ],
   "source": [
    "population_df = pd.read_excel('data/IBGE/tabela6579.ods', engine='odf', skiprows=4, skipfooter=1, names=['city_id', 'city_and_state', 'population'])\n",
    "population_df"
   ]
  },
  {
   "cell_type": "code",
   "execution_count": 5,
   "metadata": {
    "editable": true
   },
   "outputs": [],
   "source": [
    "vaccination_df = spark.read.csv('data/vaccines/*/*.csv', header=True, sep=';')"
   ]
  },
  {
   "cell_type": "code",
   "execution_count": 6,
   "metadata": {},
   "outputs": [
    {
     "output_type": "execute_result",
     "data": {
      "text/plain": [
       "                                 document_id  \\\n",
       "0  4ebbccf0-89d2-40d4-aee5-41fea43e5823-i0b0   \n",
       "1  f99cb084-d62c-4e36-a837-072e69709de5-i0b0   \n",
       "2  758116f5-ef60-48b3-81c4-17160239720d-i0b0   \n",
       "3  64efc03f-553e-400d-8965-79fe6c03a263-i0b0   \n",
       "4  e898d8d2-90b3-47ff-a445-afa9f3eb3f5e-i0b0   \n",
       "\n",
       "                                         paciente_id paciente_idade  \\\n",
       "0  9d3c1e07bcec8d966cdbd6ac1ff7c7705c341a153a756e...             58   \n",
       "1  6bfdd3d0b2ebc6025f85a43879722e5e7db56111cb79c2...             60   \n",
       "2  464c9a4e474a718ba01ee38f6c2555bed7bd08efd5255b...             68   \n",
       "3  f1f47acda0184f09aee1500a84a848e71a0779211c1456...             41   \n",
       "4  6175f1bd989a6e95995e1c8240cf258203a4623cff7880...             62   \n",
       "\n",
       "  paciente_dataNascimento paciente_enumSexoBiologico paciente_racaCor_codigo  \\\n",
       "0              1962-11-22                          F                      03   \n",
       "1              1960-07-12                          F                      99   \n",
       "2              1953-03-02                          F                      03   \n",
       "3              1979-04-25                          F                      03   \n",
       "4              1958-09-30                          M                      99   \n",
       "\n",
       "  paciente_racaCor_valor paciente_endereco_coIbgeMunicipio  \\\n",
       "0                  PARDA                            130260   \n",
       "1         SEM INFORMACAO                            130260   \n",
       "2                  PARDA                            130260   \n",
       "3                  PARDA                            130260   \n",
       "4         SEM INFORMACAO                            130260   \n",
       "\n",
       "  paciente_endereco_coPais paciente_endereco_nmMunicipio  ... vacina_lote  \\\n",
       "0                       10                        MANAUS  ...      210012   \n",
       "1                       10                        MANAUS  ...      210044   \n",
       "2                       10                        MANAUS  ...    4120Z005   \n",
       "3                       10                        MANAUS  ...      210038   \n",
       "4                       10                        MANAUS  ...      210012   \n",
       "\n",
       "             vacina_fabricante_nome vacina_fabricante_referencia  \\\n",
       "0                  Butantan/Sinovac                         None   \n",
       "1                  Butantan/Sinovac                         None   \n",
       "2  University of Oxford/AstraZeneca                         None   \n",
       "3                  Butantan/Sinovac                         None   \n",
       "4                  Butantan/Sinovac                         None   \n",
       "\n",
       "       vacina_dataAplicacao vacina_descricao_dose vacina_codigo  \\\n",
       "0  2021-03-06T00:00:00.000Z               2ª Dose            86   \n",
       "1  2021-03-19T00:00:00.000Z               1ª Dose            86   \n",
       "2  2021-03-02T00:00:00.000Z               1ª Dose            85   \n",
       "3  2021-03-22T00:00:00.000Z               2ª Dose            86   \n",
       "4  2021-03-16T00:00:00.000Z               1ª Dose            86   \n",
       "\n",
       "                           vacina_nome sistema_origem data_importacao_rnds  \\\n",
       "0  Covid-19-Coronavac-Sinovac/Butantan            SMV  2021-03-10 00:48:00   \n",
       "1  Covid-19-Coronavac-Sinovac/Butantan            SMV  2021-03-22 00:25:37   \n",
       "2         Vacina Covid-19 - Covishield            SMV  2021-03-05 01:14:05   \n",
       "3  Covid-19-Coronavac-Sinovac/Butantan            SMV  2021-03-24 02:09:31   \n",
       "4  Covid-19-Coronavac-Sinovac/Butantan            SMV  2021-03-18 00:44:55   \n",
       "\n",
       "  id_sistema_origem  \n",
       "0             18183  \n",
       "1             18183  \n",
       "2             18183  \n",
       "3             18183  \n",
       "4             18183  \n",
       "\n",
       "[5 rows x 34 columns]"
      ],
      "text/html": "<div>\n<style scoped>\n    .dataframe tbody tr th:only-of-type {\n        vertical-align: middle;\n    }\n\n    .dataframe tbody tr th {\n        vertical-align: top;\n    }\n\n    .dataframe thead th {\n        text-align: right;\n    }\n</style>\n<table border=\"1\" class=\"dataframe\">\n  <thead>\n    <tr style=\"text-align: right;\">\n      <th></th>\n      <th>document_id</th>\n      <th>paciente_id</th>\n      <th>paciente_idade</th>\n      <th>paciente_dataNascimento</th>\n      <th>paciente_enumSexoBiologico</th>\n      <th>paciente_racaCor_codigo</th>\n      <th>paciente_racaCor_valor</th>\n      <th>paciente_endereco_coIbgeMunicipio</th>\n      <th>paciente_endereco_coPais</th>\n      <th>paciente_endereco_nmMunicipio</th>\n      <th>...</th>\n      <th>vacina_lote</th>\n      <th>vacina_fabricante_nome</th>\n      <th>vacina_fabricante_referencia</th>\n      <th>vacina_dataAplicacao</th>\n      <th>vacina_descricao_dose</th>\n      <th>vacina_codigo</th>\n      <th>vacina_nome</th>\n      <th>sistema_origem</th>\n      <th>data_importacao_rnds</th>\n      <th>id_sistema_origem</th>\n    </tr>\n  </thead>\n  <tbody>\n    <tr>\n      <th>0</th>\n      <td>4ebbccf0-89d2-40d4-aee5-41fea43e5823-i0b0</td>\n      <td>9d3c1e07bcec8d966cdbd6ac1ff7c7705c341a153a756e...</td>\n      <td>58</td>\n      <td>1962-11-22</td>\n      <td>F</td>\n      <td>03</td>\n      <td>PARDA</td>\n      <td>130260</td>\n      <td>10</td>\n      <td>MANAUS</td>\n      <td>...</td>\n      <td>210012</td>\n      <td>Butantan/Sinovac</td>\n      <td>None</td>\n      <td>2021-03-06T00:00:00.000Z</td>\n      <td>2ª Dose</td>\n      <td>86</td>\n      <td>Covid-19-Coronavac-Sinovac/Butantan</td>\n      <td>SMV</td>\n      <td>2021-03-10 00:48:00</td>\n      <td>18183</td>\n    </tr>\n    <tr>\n      <th>1</th>\n      <td>f99cb084-d62c-4e36-a837-072e69709de5-i0b0</td>\n      <td>6bfdd3d0b2ebc6025f85a43879722e5e7db56111cb79c2...</td>\n      <td>60</td>\n      <td>1960-07-12</td>\n      <td>F</td>\n      <td>99</td>\n      <td>SEM INFORMACAO</td>\n      <td>130260</td>\n      <td>10</td>\n      <td>MANAUS</td>\n      <td>...</td>\n      <td>210044</td>\n      <td>Butantan/Sinovac</td>\n      <td>None</td>\n      <td>2021-03-19T00:00:00.000Z</td>\n      <td>1ª Dose</td>\n      <td>86</td>\n      <td>Covid-19-Coronavac-Sinovac/Butantan</td>\n      <td>SMV</td>\n      <td>2021-03-22 00:25:37</td>\n      <td>18183</td>\n    </tr>\n    <tr>\n      <th>2</th>\n      <td>758116f5-ef60-48b3-81c4-17160239720d-i0b0</td>\n      <td>464c9a4e474a718ba01ee38f6c2555bed7bd08efd5255b...</td>\n      <td>68</td>\n      <td>1953-03-02</td>\n      <td>F</td>\n      <td>03</td>\n      <td>PARDA</td>\n      <td>130260</td>\n      <td>10</td>\n      <td>MANAUS</td>\n      <td>...</td>\n      <td>4120Z005</td>\n      <td>University of Oxford/AstraZeneca</td>\n      <td>None</td>\n      <td>2021-03-02T00:00:00.000Z</td>\n      <td>1ª Dose</td>\n      <td>85</td>\n      <td>Vacina Covid-19 - Covishield</td>\n      <td>SMV</td>\n      <td>2021-03-05 01:14:05</td>\n      <td>18183</td>\n    </tr>\n    <tr>\n      <th>3</th>\n      <td>64efc03f-553e-400d-8965-79fe6c03a263-i0b0</td>\n      <td>f1f47acda0184f09aee1500a84a848e71a0779211c1456...</td>\n      <td>41</td>\n      <td>1979-04-25</td>\n      <td>F</td>\n      <td>03</td>\n      <td>PARDA</td>\n      <td>130260</td>\n      <td>10</td>\n      <td>MANAUS</td>\n      <td>...</td>\n      <td>210038</td>\n      <td>Butantan/Sinovac</td>\n      <td>None</td>\n      <td>2021-03-22T00:00:00.000Z</td>\n      <td>2ª Dose</td>\n      <td>86</td>\n      <td>Covid-19-Coronavac-Sinovac/Butantan</td>\n      <td>SMV</td>\n      <td>2021-03-24 02:09:31</td>\n      <td>18183</td>\n    </tr>\n    <tr>\n      <th>4</th>\n      <td>e898d8d2-90b3-47ff-a445-afa9f3eb3f5e-i0b0</td>\n      <td>6175f1bd989a6e95995e1c8240cf258203a4623cff7880...</td>\n      <td>62</td>\n      <td>1958-09-30</td>\n      <td>M</td>\n      <td>99</td>\n      <td>SEM INFORMACAO</td>\n      <td>130260</td>\n      <td>10</td>\n      <td>MANAUS</td>\n      <td>...</td>\n      <td>210012</td>\n      <td>Butantan/Sinovac</td>\n      <td>None</td>\n      <td>2021-03-16T00:00:00.000Z</td>\n      <td>1ª Dose</td>\n      <td>86</td>\n      <td>Covid-19-Coronavac-Sinovac/Butantan</td>\n      <td>SMV</td>\n      <td>2021-03-18 00:44:55</td>\n      <td>18183</td>\n    </tr>\n  </tbody>\n</table>\n<p>5 rows × 34 columns</p>\n</div>"
     },
     "metadata": {},
     "execution_count": 6
    }
   ],
   "source": [
    "vaccination_df.limit(5).toPandas()"
   ]
  },
  {
   "cell_type": "markdown",
   "metadata": {
    "editable": true
   },
   "source": [
    "### Step 2: Explore and Assess the Data\n",
    "#### Explore the Data \n",
    "We should the datasets to see if we have missing values and also explore some numerical fields to see if they make sense.\n",
    "\n",
    "#### Cleaning Steps\n",
    "If necessary, we'll perform some data cleaning after exploring."
   ]
  },
  {
   "source": [
    "### Demographic density dataset"
   ],
   "cell_type": "markdown",
   "metadata": {}
  },
  {
   "cell_type": "code",
   "execution_count": 7,
   "metadata": {},
   "outputs": [
    {
     "output_type": "stream",
     "name": "stdout",
     "text": [
      "False\nFalse\nFalse\n"
     ]
    }
   ],
   "source": [
    "print(demographic_density_df['city_id'].hasnans)\n",
    "print(demographic_density_df['city_and_state'].hasnans)\n",
    "print(demographic_density_df['demographic_density'].hasnans)"
   ]
  },
  {
   "source": [
    "No null values found!"
   ],
   "cell_type": "markdown",
   "metadata": {}
  },
  {
   "cell_type": "code",
   "execution_count": 8,
   "metadata": {},
   "outputs": [
    {
     "output_type": "execute_result",
     "data": {
      "text/plain": [
       "count     5565.000000\n",
       "mean       108.202122\n",
       "std        572.444281\n",
       "min          0.130000\n",
       "25%         11.560000\n",
       "50%         24.370000\n",
       "75%         51.670000\n",
       "max      13024.560000\n",
       "Name: demographic_density, dtype: float64"
      ]
     },
     "metadata": {},
     "execution_count": 8
    }
   ],
   "source": [
    "demographic_density_df['demographic_density'].describe()"
   ]
  },
  {
   "cell_type": "code",
   "execution_count": 9,
   "metadata": {},
   "outputs": [
    {
     "output_type": "execute_result",
     "data": {
      "text/plain": [
       "city_id                                3305109\n",
       "city_and_state         São João de Meriti (RJ)\n",
       "demographic_density                   13024.56\n",
       "Name: 3248, dtype: object"
      ]
     },
     "metadata": {},
     "execution_count": 9
    }
   ],
   "source": [
    "max_density_idx = demographic_density_df['demographic_density'].idxmax()\n",
    "demographic_density_df.iloc[max_density_idx]"
   ]
  },
  {
   "cell_type": "code",
   "execution_count": 10,
   "metadata": {},
   "outputs": [
    {
     "output_type": "execute_result",
     "data": {
      "text/plain": [
       "city_id                    1302108\n",
       "city_and_state         Japurá (AM)\n",
       "demographic_density           0.13\n",
       "Name: 105, dtype: object"
      ]
     },
     "metadata": {},
     "execution_count": 10
    }
   ],
   "source": [
    "min_density_idx = demographic_density_df['demographic_density'].idxmin()\n",
    "demographic_density_df.iloc[min_density_idx]"
   ]
  },
  {
   "source": [
    "Given what we know about Brazil, it's safe to say that the data is OK! Using Wikipedia as reference, the values check!\n",
    "\n",
    "Sao Joao do Meriti (RJ): https://pt.wikipedia.org/wiki/S%C3%A3o_Jo%C3%A3o_de_Meriti\n",
    "\n",
    "Japura (AM): https://pt.wikipedia.org/wiki/Japur%C3%A1_(Amazonas)"
   ],
   "cell_type": "markdown",
   "metadata": {}
  },
  {
   "source": [
    "### Population dataset"
   ],
   "cell_type": "markdown",
   "metadata": {}
  },
  {
   "cell_type": "code",
   "execution_count": 11,
   "metadata": {},
   "outputs": [
    {
     "output_type": "stream",
     "name": "stdout",
     "text": [
      "False\nFalse\nFalse\n"
     ]
    }
   ],
   "source": [
    "print(population_df['city_id'].hasnans)\n",
    "print(population_df['city_and_state'].hasnans)\n",
    "print(population_df['population'].hasnans)"
   ]
  },
  {
   "source": [
    "No null values found!"
   ],
   "cell_type": "markdown",
   "metadata": {}
  },
  {
   "cell_type": "code",
   "execution_count": 12,
   "metadata": {},
   "outputs": [
    {
     "output_type": "execute_result",
     "data": {
      "text/plain": [
       "count        5570.00\n",
       "mean        38017.18\n",
       "std        222892.99\n",
       "min           776.00\n",
       "25%          5442.25\n",
       "50%         11665.50\n",
       "75%         25663.75\n",
       "max      12325232.00\n",
       "Name: population, dtype: object"
      ]
     },
     "metadata": {},
     "execution_count": 12
    }
   ],
   "source": [
    "population_df['population'].describe().apply(lambda x: format(x, '.2f'))"
   ]
  },
  {
   "cell_type": "code",
   "execution_count": 13,
   "metadata": {},
   "outputs": [
    {
     "output_type": "execute_result",
     "data": {
      "text/plain": [
       "city_id                  3550308\n",
       "city_and_state    São Paulo (SP)\n",
       "population              12325232\n",
       "Name: 3829, dtype: object"
      ]
     },
     "metadata": {},
     "execution_count": 13
    }
   ],
   "source": [
    "max_population_idx = population_df['population'].idxmax()\n",
    "population_df.iloc[max_population_idx]"
   ]
  },
  {
   "cell_type": "code",
   "execution_count": 14,
   "metadata": {},
   "outputs": [
    {
     "output_type": "execute_result",
     "data": {
      "text/plain": [
       "city_id                         3166600\n",
       "city_and_state    Serra da Saudade (MG)\n",
       "population                          776\n",
       "Name: 3026, dtype: object"
      ]
     },
     "metadata": {},
     "execution_count": 14
    }
   ],
   "source": [
    "min_population_idx = population_df['population'].idxmin()\n",
    "population_df.iloc[min_population_idx]"
   ]
  },
  {
   "source": [
    "The population data also check! Also leaving some references here:\n",
    "\n",
    "Sao Paulo (SP): https://pt.wikipedia.org/wiki/S%C3%A3o_Paulo\n",
    "\n",
    "Serra da Saudade (MG): https://pt.wikipedia.org/wiki/Serra_da_Saudade"
   ],
   "cell_type": "markdown",
   "metadata": {}
  },
  {
   "source": [
    "### Vaccination dataset\n",
    "\n",
    "Here we will look at just as few columns which are interesting to us: age (paciente_idade), IBGE city code (estabelecimento_municipio_codigo) and application date (vacina_dataAplicacao)."
   ],
   "cell_type": "markdown",
   "metadata": {}
  },
  {
   "cell_type": "code",
   "execution_count": 15,
   "metadata": {},
   "outputs": [
    {
     "output_type": "execute_result",
     "data": {
      "text/plain": [
       "       paciente_idade\n",
       "count    1.180128e+06\n",
       "mean     5.753505e+01\n",
       "std      1.895849e+01\n",
       "min      0.000000e+00\n",
       "25%      4.100000e+01\n",
       "50%      6.200000e+01\n",
       "75%      7.200000e+01\n",
       "max      1.260000e+02"
      ],
      "text/html": "<div>\n<style scoped>\n    .dataframe tbody tr th:only-of-type {\n        vertical-align: middle;\n    }\n\n    .dataframe tbody tr th {\n        vertical-align: top;\n    }\n\n    .dataframe thead th {\n        text-align: right;\n    }\n</style>\n<table border=\"1\" class=\"dataframe\">\n  <thead>\n    <tr style=\"text-align: right;\">\n      <th></th>\n      <th>paciente_idade</th>\n    </tr>\n  </thead>\n  <tbody>\n    <tr>\n      <th>count</th>\n      <td>1.180128e+06</td>\n    </tr>\n    <tr>\n      <th>mean</th>\n      <td>5.753505e+01</td>\n    </tr>\n    <tr>\n      <th>std</th>\n      <td>1.895849e+01</td>\n    </tr>\n    <tr>\n      <th>min</th>\n      <td>0.000000e+00</td>\n    </tr>\n    <tr>\n      <th>25%</th>\n      <td>4.100000e+01</td>\n    </tr>\n    <tr>\n      <th>50%</th>\n      <td>6.200000e+01</td>\n    </tr>\n    <tr>\n      <th>75%</th>\n      <td>7.200000e+01</td>\n    </tr>\n    <tr>\n      <th>max</th>\n      <td>1.260000e+02</td>\n    </tr>\n  </tbody>\n</table>\n</div>"
     },
     "metadata": {},
     "execution_count": 15
    }
   ],
   "source": [
    "age_as_pandas_df = vaccination_df.select('paciente_idade').toPandas()\n",
    "age_as_pandas_df.astype(int).describe()"
   ]
  },
  {
   "source": [
    "Brazil started its vaccination campaign with healthcare workers and elders, so we expect high averages. The floor should be above 18 years old though, because the vaccines aren't approved yet for minors, therefore we will remove these rows when generating the final tables."
   ],
   "cell_type": "markdown",
   "metadata": {}
  },
  {
   "cell_type": "code",
   "execution_count": 16,
   "metadata": {},
   "outputs": [
    {
     "output_type": "execute_result",
     "data": {
      "text/plain": [
       "False"
      ]
     },
     "metadata": {},
     "execution_count": 16
    }
   ],
   "source": [
    "ibge_code_as_pandas_df = vaccination_df.select('estabelecimento_municipio_codigo').toPandas()\n",
    "ibge_code_as_pandas_df['estabelecimento_municipio_codigo'].hasnans"
   ]
  },
  {
   "source": [
    "We want evaluate vaccination rates from regions to cities, so it's important we have the IBGE code available."
   ],
   "cell_type": "markdown",
   "metadata": {}
  },
  {
   "cell_type": "code",
   "execution_count": 17,
   "metadata": {},
   "outputs": [
    {
     "output_type": "execute_result",
     "data": {
      "text/plain": [
       "[Row(max(vacina_dataAplicacao)='2021-04-18T03:00:00.000Z')]"
      ]
     },
     "metadata": {},
     "execution_count": 17
    }
   ],
   "source": [
    "vaccination_df.agg({'vacina_dataAplicacao': 'max'}).collect()"
   ]
  },
  {
   "cell_type": "code",
   "execution_count": 18,
   "metadata": {},
   "outputs": [
    {
     "output_type": "execute_result",
     "data": {
      "text/plain": [
       "[Row(min(vacina_dataAplicacao)='2021-01-01T00:00:00.000Z')]"
      ]
     },
     "metadata": {},
     "execution_count": 18
    }
   ],
   "source": [
    "vaccination_df.agg({'vacina_dataAplicacao': 'min'}).collect()"
   ]
  },
  {
   "source": [
    "The vaccination dates seem fine! Let's now convert the type of some columns."
   ],
   "cell_type": "markdown",
   "metadata": {}
  },
  {
   "cell_type": "code",
   "execution_count": 19,
   "metadata": {},
   "outputs": [
    {
     "output_type": "stream",
     "name": "stdout",
     "text": [
      "root\n |-- document_id: string (nullable = true)\n |-- paciente_id: string (nullable = true)\n |-- paciente_idade: string (nullable = true)\n |-- paciente_dataNascimento: string (nullable = true)\n |-- paciente_enumSexoBiologico: string (nullable = true)\n |-- paciente_racaCor_codigo: string (nullable = true)\n |-- paciente_racaCor_valor: string (nullable = true)\n |-- paciente_endereco_coIbgeMunicipio: string (nullable = true)\n |-- paciente_endereco_coPais: string (nullable = true)\n |-- paciente_endereco_nmMunicipio: string (nullable = true)\n |-- paciente_endereco_nmPais: string (nullable = true)\n |-- paciente_endereco_uf: string (nullable = true)\n |-- paciente_endereco_cep: string (nullable = true)\n |-- paciente_nacionalidade_enumNacionalidade: string (nullable = true)\n |-- estabelecimento_valor: string (nullable = true)\n |-- estabelecimento_razaoSocial: string (nullable = true)\n |-- estalecimento_noFantasia: string (nullable = true)\n |-- estabelecimento_municipio_codigo: string (nullable = true)\n |-- estabelecimento_municipio_nome: string (nullable = true)\n |-- estabelecimento_uf: string (nullable = true)\n |-- vacina_grupoAtendimento_codigo: string (nullable = true)\n |-- vacina_grupoAtendimento_nome: string (nullable = true)\n |-- vacina_categoria_codigo: string (nullable = true)\n |-- vacina_categoria_nome: string (nullable = true)\n |-- vacina_lote: string (nullable = true)\n |-- vacina_fabricante_nome: string (nullable = true)\n |-- vacina_fabricante_referencia: string (nullable = true)\n |-- vacina_dataAplicacao: string (nullable = true)\n |-- vacina_descricao_dose: string (nullable = true)\n |-- vacina_codigo: string (nullable = true)\n |-- vacina_nome: string (nullable = true)\n |-- sistema_origem: string (nullable = true)\n |-- data_importacao_rnds: string (nullable = true)\n |-- id_sistema_origem: string (nullable = true)\n\n"
     ]
    }
   ],
   "source": [
    "vaccination_df.printSchema()"
   ]
  },
  {
   "cell_type": "code",
   "execution_count": 20,
   "metadata": {},
   "outputs": [],
   "source": [
    "vaccination_df = vaccination_df.withColumn('date', to_date('vacina_dataAplicacao')) \\\n",
    "                        .withColumn('birthdate', to_date('paciente_dataNascimento')) \\\n",
    "                        .withColumn('age', col('paciente_idade').cast(IntegerType())) \\\n",
    "                        .filter(vaccination_df.paciente_idade >= 18)"
   ]
  },
  {
   "cell_type": "markdown",
   "metadata": {
    "editable": true
   },
   "source": [
    "### Step 3: Define the Data Model\n",
    "#### 3.1 Conceptual Data Model\n",
    "\n",
    "Let's define the dimensions first. With the datasets available, there are four dimensions we can define:\n",
    "- **Cities**: this table is a join of both IBGE tables, with columns for the IBGE code, demographic density and population.\n",
    "- **Persons**: this table has data of all citizens that were vaccinated so far. It's important to notice that the dataset is already anonymized, so we can use them.\n",
    "- **Dates**: this is a simple table with application dates.\n",
    "- **Vaccines**: general data from each vaccine (which laboratory made it, first or second dose and so on)\n",
    "\n",
    "And our fact table:\n",
    "- **Vaccination**: referencing cities, persons, dates and vaccines. Other than foreign keys, this table will also have specific data about the application, such as which dose was applied.\n",
    "\n",
    "#### 3.2 Fields\n",
    "Let's now define the fields selected for each table:\n",
    "- Cities: PK(city_id), name, population, demographic_density\n",
    "- Persons: PK(person_id), age, birthdate, sex, race_color, residence_city_id\n",
    "- Dates: PK(date), day, month, year, weekday\n",
    "- Vaccines: PK(vaccine_id), manufacturer_id, manufacturer_name, vaccine_name\n",
    "- Vaccination: PK(vaccination_id), city_id, person_id, date, vaccine_id, vaccine_batch, vaccine_dose, vaccine_group_name, vaccine_category_name\n",
    "\n",
    "#### 3.3 Mapping Out Data Pipelines\n",
    "To transform the data into our model, we need to load each raw dataset, perform transformations and finally load the dimensions and fact tables. For simplicity, we'll use the spark data lake project as reference, loading data from a bucket, transforming the table and storing parquet files also on a bucket. This will allow to execute locally in Python and on the cloud using AWS EMR, for instance."
   ]
  },
  {
   "cell_type": "markdown",
   "metadata": {
    "editable": true
   },
   "source": [
    "### Step 4: Run Pipelines to Model the Data \n",
    "#### 4.1 Create the data model\n",
    "Build the data pipelines to create the data model."
   ]
  },
  {
   "source": [
    "### Cities"
   ],
   "cell_type": "markdown",
   "metadata": {}
  },
  {
   "cell_type": "code",
   "execution_count": 21,
   "metadata": {},
   "outputs": [],
   "source": [
    "# Converting dataframes from pandas to spark\n",
    "demographic_density_df = spark.createDataFrame(demographic_density_df)\n",
    "population_df = spark.createDataFrame(population_df)"
   ]
  },
  {
   "cell_type": "code",
   "execution_count": 22,
   "metadata": {
    "editable": true
   },
   "outputs": [],
   "source": [
    "cities_table = population_df.select(['city_id', 'population']).join(demographic_density_df, ['city_id'])"
   ]
  },
  {
   "cell_type": "code",
   "execution_count": 23,
   "metadata": {},
   "outputs": [],
   "source": [
    "cities_table = cities_table.withColumn('city_name', split('city_and_state', ' \\(').getItem(0)) \\\n",
    "                    .withColumn('state', split('city_and_state', '[\\(\\)]').getItem(1)) \\\n",
    "                    .withColumn('city_id', substring('city_id', 0, 6)) \\\n",
    "                    .drop('city_and_state')"
   ]
  },
  {
   "source": [
    "Let's check a few rows of the table after the transformations!\n",
    "\n",
    "Obs.: IBGE's code has seventh digit, for verification purposes. The vaccination data has only 6 digits on city codes, so we removed the last digit here."
   ],
   "cell_type": "markdown",
   "metadata": {}
  },
  {
   "cell_type": "code",
   "execution_count": 24,
   "metadata": {},
   "outputs": [
    {
     "output_type": "stream",
     "name": "stdout",
     "text": [
      "+-------+----------+-------------------+--------------------+-----+\n|city_id|population|demographic_density|           city_name|state|\n+-------+----------+-------------------+--------------------+-----+\n| 130115|     30846|               9.09|   Careiro da Várzea|   AM|\n| 150345|     65625|               9.84|     Ipixuna do Pará|   PA|\n| 170200|      8467|                1.7|            Araguaçu|   TO|\n| 210637|     16511|              14.46|       Maranhãozinho|   MA|\n| 211085|     11941|              13.76|São Francisco do ...|   MA|\n| 220117|      3952|              14.63|   Barra D'Alcântara|   PI|\n| 220520|     19170|              20.85|              Jaicós|   PI|\n| 220910|      6247|               9.85| Santa Cruz do Piauí|   PI|\n| 230690|     34636|              18.33|           Jaguaribe|   CE|\n| 240020|     58384|              40.84|                 Açu|   RN|\n+-------+----------+-------------------+--------------------+-----+\nonly showing top 10 rows\n\n"
     ]
    }
   ],
   "source": [
    "cities_table.show(10)"
   ]
  },
  {
   "cell_type": "code",
   "execution_count": 25,
   "metadata": {},
   "outputs": [],
   "source": [
    "cities_table.write.partitionBy('state').parquet('output_data/cities', mode='overwrite')"
   ]
  },
  {
   "source": [
    "### Persons"
   ],
   "cell_type": "markdown",
   "metadata": {}
  },
  {
   "cell_type": "code",
   "execution_count": 26,
   "metadata": {},
   "outputs": [],
   "source": [
    "person_fields = [\n",
    "    'paciente_id as person_id', 'age', 'birthdate',\n",
    "    'paciente_enumSexoBiologico as sex', 'paciente_racaCor_valor as race_color',\n",
    "    'paciente_endereco_coIbgeMunicipio as residence_city_id'\n",
    "]\n",
    "\n",
    "persons_table = vaccination_df.selectExpr(person_fields).dropDuplicates(['person_id'])"
   ]
  },
  {
   "cell_type": "code",
   "execution_count": 27,
   "metadata": {},
   "outputs": [
    {
     "output_type": "stream",
     "name": "stdout",
     "text": [
      "+--------------------+---+----------+---+--------------+-----------------+\n|           person_id|age| birthdate|sex|    race_color|residence_city_id|\n+--------------------+---+----------+---+--------------+-----------------+\n|0000814f48f9d98cd...| 80|1940-08-14|  M|       AMARELA|           160023|\n|00202ddb37a6a346a...| 67|1953-12-03|  F|SEM INFORMACAO|           530010|\n|0020602d26e34ebca...| 45|1975-04-04|  F|       AMARELA|           120010|\n|0024c4ff55f7538d1...| 39|1981-05-19|  F|SEM INFORMACAO|           130260|\n|003d32596d4f043f0...| 33|1987-07-10|  F|       AMARELA|           160030|\n|0042f9e801ee3b886...| 58|1962-11-19|  F|         PARDA|           130260|\n|0049af6207fbfae24...| 25|1995-03-05|  F|         PARDA|           530010|\n|004a45443bbe755c9...| 60|1960-05-09|  F|SEM INFORMACAO|           110020|\n|005bafa860af3b402...| 71|1949-05-17|  M|SEM INFORMACAO|           530010|\n|00756e9e114ab0efc...| 86|1934-02-11|  F|         PARDA|           130070|\n+--------------------+---+----------+---+--------------+-----------------+\nonly showing top 10 rows\n\n"
     ]
    }
   ],
   "source": [
    "persons_table.show(10)"
   ]
  },
  {
   "cell_type": "code",
   "execution_count": 28,
   "metadata": {},
   "outputs": [],
   "source": [
    "persons_table.write.parquet('output_data/persons', mode='overwrite')"
   ]
  },
  {
   "source": [
    "### Dates"
   ],
   "cell_type": "markdown",
   "metadata": {}
  },
  {
   "cell_type": "code",
   "execution_count": 29,
   "metadata": {},
   "outputs": [],
   "source": [
    "date_fields = [\n",
    "    'date', 'day(date) as day', 'month(date) as month', 'year(date) as year',\n",
    "    'weekofyear(date) as week', 'dayofweek(date) as weekday'\n",
    "]\n",
    "\n",
    "dates_table = vaccination_df.dropDuplicates(['date']).selectExpr(date_fields)"
   ]
  },
  {
   "cell_type": "code",
   "execution_count": 30,
   "metadata": {},
   "outputs": [
    {
     "output_type": "stream",
     "name": "stdout",
     "text": [
      "+----------+---+-----+----+----+-------+\n|      date|day|month|year|week|weekday|\n+----------+---+-----+----+----+-------+\n|2021-01-27| 27|    1|2021|   4|      4|\n|2021-02-15| 15|    2|2021|   7|      2|\n|2021-03-22| 22|    3|2021|  12|      2|\n|2021-01-25| 25|    1|2021|   4|      2|\n|2021-01-18| 18|    1|2021|   3|      2|\n|2021-02-02|  2|    2|2021|   5|      3|\n|2021-03-07|  7|    3|2021|   9|      1|\n|2021-02-26| 26|    2|2021|   8|      6|\n|2021-04-07|  7|    4|2021|  14|      4|\n|2021-04-15| 15|    4|2021|  15|      5|\n+----------+---+-----+----+----+-------+\nonly showing top 10 rows\n\n"
     ]
    }
   ],
   "source": [
    "dates_table.show(10)"
   ]
  },
  {
   "cell_type": "code",
   "execution_count": 31,
   "metadata": {},
   "outputs": [],
   "source": [
    "dates_table.write.partitionBy(['year', 'month']).parquet('output_data/dates', mode='overwrite')"
   ]
  },
  {
   "source": [
    "### Vaccines"
   ],
   "cell_type": "markdown",
   "metadata": {}
  },
  {
   "cell_type": "code",
   "execution_count": 32,
   "metadata": {},
   "outputs": [],
   "source": [
    "vaccine_fields = [\n",
    "    'vacina_codigo as vaccine_id', 'vacina_nome as vaccine_name',\n",
    "    'vacina_fabricante_referencia as manufacturer_id', 'vacina_fabricante_nome as manufacturer_name'\n",
    "]\n",
    "\n",
    "vaccines_table = vaccination_df.selectExpr(vaccine_fields).dropDuplicates(['vaccine_id'])"
   ]
  },
  {
   "cell_type": "code",
   "execution_count": 33,
   "metadata": {},
   "outputs": [
    {
     "output_type": "stream",
     "name": "stdout",
     "text": [
      "+----------+--------------------+--------------------+--------------------+\n|vaccine_id|        vaccine_name|     manufacturer_id|   manufacturer_name|\n+----------+--------------------+--------------------+--------------------+\n|        87|Vacina covid-19 -...|                null|BioNTech/Fosun Ph...|\n|        85|Vacina Covid-19 -...|                null|University of Oxf...|\n|        89|Covid-19-AstraZeneca|Organization/0039...| MINISTERIO DA SAUDE|\n|        86|Covid-19-Coronava...|                null|    Butantan/Sinovac|\n|        88|Vacina covid-19 -...|                null|       Janssen-Cilag|\n+----------+--------------------+--------------------+--------------------+\n\n"
     ]
    }
   ],
   "source": [
    "vaccines_table.show()"
   ]
  },
  {
   "cell_type": "code",
   "execution_count": 34,
   "metadata": {},
   "outputs": [],
   "source": [
    "vaccines_table.write.parquet('output_data/vaccines', mode='overwrite')"
   ]
  },
  {
   "source": [
    "### Vaccination"
   ],
   "cell_type": "markdown",
   "metadata": {}
  },
  {
   "cell_type": "code",
   "execution_count": 35,
   "metadata": {},
   "outputs": [
    {
     "output_type": "stream",
     "name": "stdout",
     "text": [
      "root\n |-- document_id: string (nullable = true)\n |-- paciente_id: string (nullable = true)\n |-- paciente_idade: string (nullable = true)\n |-- paciente_dataNascimento: string (nullable = true)\n |-- paciente_enumSexoBiologico: string (nullable = true)\n |-- paciente_racaCor_codigo: string (nullable = true)\n |-- paciente_racaCor_valor: string (nullable = true)\n |-- paciente_endereco_coIbgeMunicipio: string (nullable = true)\n |-- paciente_endereco_coPais: string (nullable = true)\n |-- paciente_endereco_nmMunicipio: string (nullable = true)\n |-- paciente_endereco_nmPais: string (nullable = true)\n |-- paciente_endereco_uf: string (nullable = true)\n |-- paciente_endereco_cep: string (nullable = true)\n |-- paciente_nacionalidade_enumNacionalidade: string (nullable = true)\n |-- estabelecimento_valor: string (nullable = true)\n |-- estabelecimento_razaoSocial: string (nullable = true)\n |-- estalecimento_noFantasia: string (nullable = true)\n |-- estabelecimento_municipio_codigo: string (nullable = true)\n |-- estabelecimento_municipio_nome: string (nullable = true)\n |-- estabelecimento_uf: string (nullable = true)\n |-- vacina_grupoAtendimento_codigo: string (nullable = true)\n |-- vacina_grupoAtendimento_nome: string (nullable = true)\n |-- vacina_categoria_codigo: string (nullable = true)\n |-- vacina_categoria_nome: string (nullable = true)\n |-- vacina_lote: string (nullable = true)\n |-- vacina_fabricante_nome: string (nullable = true)\n |-- vacina_fabricante_referencia: string (nullable = true)\n |-- vacina_dataAplicacao: string (nullable = true)\n |-- vacina_descricao_dose: string (nullable = true)\n |-- vacina_codigo: string (nullable = true)\n |-- vacina_nome: string (nullable = true)\n |-- sistema_origem: string (nullable = true)\n |-- data_importacao_rnds: string (nullable = true)\n |-- id_sistema_origem: string (nullable = true)\n |-- date: date (nullable = true)\n |-- birthdate: date (nullable = true)\n |-- age: integer (nullable = true)\n\n"
     ]
    }
   ],
   "source": [
    "vaccination_df.printSchema()"
   ]
  },
  {
   "cell_type": "code",
   "execution_count": 36,
   "metadata": {},
   "outputs": [],
   "source": [
    "vaccination_fields = [\n",
    "    'estabelecimento_municipio_codigo as city_id', 'paciente_id as person_id',\n",
    "    'date', 'vacina_codigo as vaccine_id', 'vacina_lote as vaccine_batch',\n",
    "    'vacina_descricao_dose as vaccine_dose', 'vacina_grupoAtendimento_nome as vaccine_group_name',\n",
    "    'vacina_categoria_nome as vaccine_category_name'\n",
    "]\n",
    "\n",
    "vaccination_table = vaccination_df.selectExpr(vaccination_fields) \\\n",
    "                    .withColumn('vaccination_id', monotonically_increasing_id())"
   ]
  },
  {
   "cell_type": "code",
   "execution_count": 37,
   "metadata": {},
   "outputs": [
    {
     "output_type": "stream",
     "name": "stdout",
     "text": [
      "+-------+--------------------+----------+----------+-------------+------------+--------------------+---------------------+--------------+\n|city_id|           person_id|      date|vaccine_id|vaccine_batch|vaccine_dose|  vaccine_group_name|vaccine_category_name|vaccination_id|\n+-------+--------------------+----------+----------+-------------+------------+--------------------+---------------------+--------------+\n| 130260|9d3c1e07bcec8d966...|2021-03-06|        86|       210012|     2ª Dose|              Outros| Trabalhadores de ...|             0|\n| 130260|6bfdd3d0b2ebc6025...|2021-03-19|        86|       210044|     1ª Dose|Pessoas de 60 a 6...|         Faixa Etária|             1|\n| 130260|464c9a4e474a718ba...|2021-03-02|        85|     4120Z005|     1ª Dose|Pessoas de 65 a 6...|         Faixa Etária|             2|\n| 130260|f1f47acda0184f09a...|2021-03-22|        86|       210038|     2ª Dose|  Pessoal da Limpeza| Trabalhadores de ...|             3|\n| 130260|6175f1bd989a6e959...|2021-03-16|        86|       210012|     1ª Dose|Pessoas de 60 a 6...|         Faixa Etária|             4|\n| 130260|8c1936cf358251b06...|2021-03-06|        86|       210012|     2ª Dose|  Pessoal da Limpeza| Trabalhadores de ...|             5|\n| 130130|3c64123f9e615c438...|2021-03-08|        85|     4120Z005|     1ª Dose|Pessoas de 60 a 6...|         Faixa Etária|             6|\n| 130250|547c08dc540f1aced...|2021-03-10|        86|       210012|     2ª Dose|Pessoas de 70 a 7...|         Faixa Etária|             7|\n| 130260|46c8523edc0421c71...|2021-03-19|        86|       210038|     2ª Dose|       Enfermeiro(a)| Trabalhadores de ...|             8|\n| 130260|3f14387c4c42007f3...|2021-03-03|        86|       210012|     2ª Dose|       Recepcionista| Trabalhadores de ...|             9|\n+-------+--------------------+----------+----------+-------------+------------+--------------------+---------------------+--------------+\nonly showing top 10 rows\n\n"
     ]
    }
   ],
   "source": [
    "vaccination_table.show(10)"
   ]
  },
  {
   "cell_type": "code",
   "execution_count": 38,
   "metadata": {},
   "outputs": [],
   "source": [
    "vaccination_table.write.parquet('output_data/vaccination', mode='overwrite')"
   ]
  },
  {
   "cell_type": "markdown",
   "metadata": {
    "editable": true
   },
   "source": [
    "#### 4.2 Data Quality Checks\n",
    "Let's define the quality checks:\n",
    " * Integrity constraints for keys: primary keys on dimensions and the foreign keys on our fact table.\n",
    " * Count checks to ensure all tables have data."
   ]
  },
  {
   "cell_type": "code",
   "execution_count": 39,
   "metadata": {
    "editable": true
   },
   "outputs": [],
   "source": [
    "cities_null_id = cities_table.where(cities_table.city_id.isNull()).collect()\n",
    "assert len(cities_null_id) == 0"
   ]
  },
  {
   "cell_type": "code",
   "execution_count": 40,
   "metadata": {},
   "outputs": [],
   "source": [
    "dates_null_id = dates_table.where(dates_table.date.isNull()).collect()\n",
    "assert len(dates_null_id) == 0"
   ]
  },
  {
   "cell_type": "code",
   "execution_count": 41,
   "metadata": {},
   "outputs": [],
   "source": [
    "persons_null_id = persons_table.where(persons_table.person_id.isNull()).collect()\n",
    "assert len(persons_null_id) == 0"
   ]
  },
  {
   "cell_type": "code",
   "execution_count": 42,
   "metadata": {},
   "outputs": [],
   "source": [
    "vaccines_null_id = vaccines_table.where(vaccines_table.vaccine_id.isNull()).collect()\n",
    "assert len(vaccines_null_id) == 0"
   ]
  },
  {
   "cell_type": "code",
   "execution_count": 43,
   "metadata": {},
   "outputs": [],
   "source": [
    "vaccination_null_city = vaccination_table.where(vaccination_table.city_id.isNull()).collect()\n",
    "assert len(vaccination_null_city) == 0"
   ]
  },
  {
   "cell_type": "code",
   "execution_count": 44,
   "metadata": {},
   "outputs": [],
   "source": [
    "vaccination_null_date = vaccination_table.where(vaccination_table.date.isNull()).collect()\n",
    "assert len(vaccination_null_date) == 0"
   ]
  },
  {
   "cell_type": "code",
   "execution_count": 45,
   "metadata": {},
   "outputs": [],
   "source": [
    "vaccination_null_person = vaccination_table.where(vaccination_table.person_id.isNull()).collect()\n",
    "assert len(vaccination_null_person) == 0"
   ]
  },
  {
   "cell_type": "code",
   "execution_count": 46,
   "metadata": {},
   "outputs": [],
   "source": [
    "vaccination_null_vaccine = vaccination_table.where(vaccination_table.vaccine_id.isNull()).collect()\n",
    "assert len(vaccination_null_vaccine) == 0"
   ]
  },
  {
   "cell_type": "code",
   "execution_count": 47,
   "metadata": {},
   "outputs": [],
   "source": [
    "assert cities_table.count() > 0\n",
    "assert dates_table.count() > 0\n",
    "assert persons_table.count() > 0\n",
    "assert vaccines_table.count() > 0\n",
    "assert vaccination_table.count() > 0"
   ]
  },
  {
   "source": [
    "All quality checks passed!"
   ],
   "cell_type": "markdown",
   "metadata": {}
  },
  {
   "cell_type": "markdown",
   "metadata": {
    "editable": true
   },
   "source": [
    "#### 4.3 Data dictionary \n",
    "\n",
    "- **Cities**\n",
    "    - city_id: IBGE's (Brazilian Institute of Geography and Statistics) unique id for each city in Brazil. The first two digits refer to the state and the following identify the city.\n",
    "    - name: city name.\n",
    "    - population: the city's population estimate.\n",
    "    - demographic_density: the city's demographic density (population/total area).\n",
    "- **Persons**\n",
    "    - person_id: an unique id for each vaccinated person. This field is anonimized on the source.\n",
    "    - age: person's age.\n",
    "    - birthdate: date the person was born.\n",
    "    - sex: the person's biological sex.\n",
    "    - race_color: person's race/color description.\n",
    "    - residence_city_id: IBGE's code of the city the person resides.\n",
    "- **Dates**\n",
    "    - date: a data, formatted as YYYY-MM-DD.\n",
    "    - day: day of the month.\n",
    "    - month.\n",
    "    - year.\n",
    "    - week: week of the year.\n",
    "    - weekday: day of the week.\n",
    "- **Vaccines**\n",
    "    - vaccine_id: a numeric identifier of each vaccine available on the source.\n",
    "    - vaccine_name: name given by the manufacturer.\n",
    "    - manufacturer_id: unique id of each vaccine manufacturer.\n",
    "    - manufacturer_name.\n",
    "- **Vaccination**\n",
    "    - vaccination_id: unique number for each dose applied.\n",
    "    - vaccine_id: id of the applied vaccine.\n",
    "    - city_id: IBGE's code of the city where the vaccine was applied.\n",
    "    - person_id: vaccinated person id.\n",
    "    - date: vaccination date.\n",
    "    - vaccine_id: id of the specific vaccine applied.\n",
    "    - vaccine_batch: the manufacturing batch of the applied vaccine.\n",
    "    - vaccine_dose: which dose was applied (first or second).\n",
    "    - vaccine_group_name: group to which the vaccinated person belongs.\n",
    "    - vaccine_category_name: nationwide category of groups vaccinated."
   ]
  },
  {
   "cell_type": "markdown",
   "metadata": {
    "editable": true
   },
   "source": [
    "#### Step 5: Complete Project Write Up\n",
    "* Choice of tools and technologies for the project:\n",
    "    - I chose spark because it's nearly as easy to use as pandas while handling large datasets better. The data lake architecture, similar to the one used on Project 4, makes it easy to develop the ETL and if deployed over a cluster, will be very efficient in processing the datasets.\n",
    "\n",
    "* How often the data should be updated and why:\n",
    "    - The vaccination data is updated on the source on a daily basis, so that would be the best period to update. This data could be used to support government officials decision making, to prioritize distribution of new vaccines and doses, so it's very important to keep the data updated as often as possible, to provide insights and demonstrate results of all actions taken.\n",
    "\n",
    "* How I would approach the problem under the following scenarios:\n",
    " * The data was increased by 100x: I'd probably use a more robust storage solution, like Redshift, to make the data available quicker. While spark is great at processing, using a cloud data lake will probably decrease my analytics performance.\n",
    " * The data populates a dashboard that must be updated on a daily basis by 7am every day: I would use a tool to orchestrate the pipeline, like Airflow, to make sure the processing is scheduled and I have control and monitoring tools to observe the status of the ETL, in case anything goes wrong. Being warned that the pipeline failed before the dashboard reports that is very important.\n",
    " * The database needed to be accessed by 100+ people: I would use a database like Redshift, because it's made for analytical queries and AWS has all the access management tools necessary to make sure the data is secure and accessed only by those who need to. Another solution I think is cool would be providing an API to allow users to access the data, if possible."
   ]
  }
 ],
 "metadata": {
  "kernelspec": {
   "name": "pythonjvsc74a57bd01c9f629612e4a67d87a714e03152ef999a339ce0acb305c9be278f69dd4a8b79",
   "display_name": "Python 3.9.2  ('env': venv)"
  },
  "language_info": {
   "codemirror_mode": {
    "name": "ipython",
    "version": 3
   },
   "file_extension": ".py",
   "mimetype": "text/x-python",
   "name": "python",
   "nbconvert_exporter": "python",
   "pygments_lexer": "ipython3",
   "version": "3.9.2"
  },
  "metadata": {
   "interpreter": {
    "hash": "1c9f629612e4a67d87a714e03152ef999a339ce0acb305c9be278f69dd4a8b79"
   }
  }
 },
 "nbformat": 4,
 "nbformat_minor": 4
}